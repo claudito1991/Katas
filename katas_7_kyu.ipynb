{
 "cells": [
  {
   "cell_type": "markdown",
   "id": "fe9f46af-4665-44b9-9679-c79540e46364",
   "metadata": {},
   "source": [
    "## Description\n",
    "\n",
    "The Western Suburbs Croquet Club has two categories of membership, Senior and Open. They would like your help with an application form that will tell prospective members which category they will be placed.\n",
    "\n",
    "To be a senior, a member must be at least 55 years old and have a handicap greater than 7. In this croquet club, handicaps range from -2 to +26; the better the player the lower the handicap.\n",
    "\n",
    "Input\n",
    "Input will consist of a list of pairs. Each pair contains information for a single potential member. Information consists of an integer for the person's age and an integer for the person's handicap.\n",
    "\n",
    "Output\n",
    "Output will consist of a list of string values (in Haskell and C: Open or Senior) stating whether the respective member is to be placed in the senior or open category."
   ]
  },
  {
   "cell_type": "code",
   "execution_count": 2,
   "id": "e8afe5a3-689b-4e93-9ca0-33fd62aa8938",
   "metadata": {},
   "outputs": [],
   "source": [
    "def open_or_senior(data):\n",
    "    aux_list=[]\n",
    "    \n",
    "    for i in data:\n",
    "        if(i[0]>=55 and i[1]>7):\n",
    "            aux_list.append(\"Senior\")\n",
    "        else:\n",
    "            aux_list.append(\"Open\")\n",
    "    return aux_list"
   ]
  },
  {
   "cell_type": "code",
   "execution_count": 4,
   "id": "b82c5ae9-d50b-4f2e-91ab-345dfc7850ee",
   "metadata": {},
   "outputs": [
    {
     "data": {
      "text/plain": [
       "['Senior', 'Open', 'Open']"
      ]
     },
     "execution_count": 4,
     "metadata": {},
     "output_type": "execute_result"
    }
   ],
   "source": [
    "open_or_senior([[55,12], [60,7],[20,-2]])"
   ]
  },
  {
   "cell_type": "code",
   "execution_count": null,
   "id": "90112f2c-e546-411f-ac51-1f00db865274",
   "metadata": {},
   "outputs": [],
   "source": []
  }
 ],
 "metadata": {
  "kernelspec": {
   "display_name": "Python 3 (ipykernel)",
   "language": "python",
   "name": "python3"
  },
  "language_info": {
   "codemirror_mode": {
    "name": "ipython",
    "version": 3
   },
   "file_extension": ".py",
   "mimetype": "text/x-python",
   "name": "python",
   "nbconvert_exporter": "python",
   "pygments_lexer": "ipython3",
   "version": "3.9.12"
  }
 },
 "nbformat": 4,
 "nbformat_minor": 5
}
