{
 "cells": [
  {
   "cell_type": "markdown",
   "id": "56309c85-67e1-4ac7-b2e2-6cb970d965e0",
   "metadata": {},
   "source": [
    "## Description\n",
    "We need a function that can transform a string into a number. What ways of achieving this do you know?\n",
    "\n",
    "Note: Don't worry, all inputs will be strings, and every string is a perfectly valid representation of an integral number."
   ]
  },
  {
   "cell_type": "code",
   "execution_count": 1,
   "id": "c7a629a9-155b-448c-a900-a294b636b099",
   "metadata": {},
   "outputs": [],
   "source": [
    "def string_to_number(s):\n",
    "    return int(s)"
   ]
  },
  {
   "cell_type": "code",
   "execution_count": 2,
   "id": "44a939cb-14ae-48a7-b6ff-bb1b9e44bb27",
   "metadata": {},
   "outputs": [
    {
     "data": {
      "text/plain": [
       "1230"
      ]
     },
     "execution_count": 2,
     "metadata": {},
     "output_type": "execute_result"
    }
   ],
   "source": [
    "string_to_number(\"1230\")"
   ]
  },
  {
   "cell_type": "code",
   "execution_count": null,
   "id": "d5c1d1db-aba5-4cf9-9c6c-b24265421fb2",
   "metadata": {},
   "outputs": [],
   "source": []
  }
 ],
 "metadata": {
  "kernelspec": {
   "display_name": "Python 3 (ipykernel)",
   "language": "python",
   "name": "python3"
  },
  "language_info": {
   "codemirror_mode": {
    "name": "ipython",
    "version": 3
   },
   "file_extension": ".py",
   "mimetype": "text/x-python",
   "name": "python",
   "nbconvert_exporter": "python",
   "pygments_lexer": "ipython3",
   "version": "3.9.12"
  }
 },
 "nbformat": 4,
 "nbformat_minor": 5
}
