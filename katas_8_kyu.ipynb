{
 "cells": [
  {
   "cell_type": "markdown",
   "id": "56309c85-67e1-4ac7-b2e2-6cb970d965e0",
   "metadata": {},
   "source": [
    "## Description\n",
    "We need a function that can transform a string into a number. What ways of achieving this do you know?\n",
    "\n",
    "Note: Don't worry, all inputs will be strings, and every string is a perfectly valid representation of an integral number."
   ]
  },
  {
   "cell_type": "code",
   "execution_count": 1,
   "id": "c7a629a9-155b-448c-a900-a294b636b099",
   "metadata": {},
   "outputs": [],
   "source": [
    "def string_to_number(s):\n",
    "    return int(s)"
   ]
  },
  {
   "cell_type": "code",
   "execution_count": 2,
   "id": "44a939cb-14ae-48a7-b6ff-bb1b9e44bb27",
   "metadata": {},
   "outputs": [
    {
     "data": {
      "text/plain": [
       "1230"
      ]
     },
     "execution_count": 2,
     "metadata": {},
     "output_type": "execute_result"
    }
   ],
   "source": [
    "string_to_number(\"1230\")"
   ]
  },
  {
   "cell_type": "markdown",
   "id": "1fcf8499-f9dd-43c9-9e40-4b00c0382479",
   "metadata": {},
   "source": [
    "\n",
    "## Description\n",
    "\n",
    "In this simple assignment you are given a number and have to make it negative. But maybe the number is already negative?\n",
    "\n",
    "Examples\n",
    "make_negative(1);  # return -1\n",
    "make_negative(-5); # return -5\n",
    "make_negative(0);  # return 0\n",
    "Notes\n",
    "The number can be negative already, in which case no change is required.\n",
    "Zero (0) is not checked for any specific sign. Negative zeros make no mathematical sense.\n"
   ]
  },
  {
   "cell_type": "code",
   "execution_count": 4,
   "id": "be55a1d8-1617-4a56-918f-6d1744572e46",
   "metadata": {},
   "outputs": [],
   "source": [
    "def make_negative( number ):\n",
    "    if number <= 0:\n",
    "        return number\n",
    "    else:\n",
    "        return number * -1"
   ]
  },
  {
   "cell_type": "code",
   "execution_count": 5,
   "id": "57fc05d7-fa46-4fe0-8494-431613d746b6",
   "metadata": {},
   "outputs": [
    {
     "data": {
      "text/plain": [
       "-5"
      ]
     },
     "execution_count": 5,
     "metadata": {},
     "output_type": "execute_result"
    }
   ],
   "source": [
    "make_negative(5)"
   ]
  },
  {
   "cell_type": "code",
   "execution_count": 6,
   "id": "1c613dd6-c754-4419-8a27-8e2d487c39e3",
   "metadata": {},
   "outputs": [
    {
     "data": {
      "text/plain": [
       "-5"
      ]
     },
     "execution_count": 6,
     "metadata": {},
     "output_type": "execute_result"
    }
   ],
   "source": [
    "make_negative(-5)"
   ]
  },
  {
   "cell_type": "code",
   "execution_count": 7,
   "id": "452eadc7-685a-49ea-977c-f8d8704e84ff",
   "metadata": {},
   "outputs": [
    {
     "data": {
      "text/plain": [
       "0"
      ]
     },
     "execution_count": 7,
     "metadata": {},
     "output_type": "execute_result"
    }
   ],
   "source": [
    "make_negative(0)"
   ]
  },
  {
   "cell_type": "markdown",
   "id": "50afcbeb-00a3-4220-a915-287864910bec",
   "metadata": {},
   "source": [
    "## Description\n",
    "\n",
    "Can you find the needle in the haystack?\n",
    "\n",
    "Write a function findNeedle() that takes an array full of junk but containing one \"needle\"\n",
    "\n",
    "After your function finds the needle it should return a message (as a string) that says:\n",
    "\n",
    "\"found the needle at position \" plus the index it found the needle, so:"
   ]
  },
  {
   "cell_type": "code",
   "execution_count": 26,
   "id": "d15afa75-065c-4eda-bc9f-c3b3d20f5569",
   "metadata": {},
   "outputs": [],
   "source": [
    "def find_needle(haystack):\n",
    "    for i,j in enumerate(haystack):\n",
    "        if j == \"needle\":\n",
    "            return f'found the needle at position {i}'"
   ]
  },
  {
   "cell_type": "code",
   "execution_count": 27,
   "id": "788e0923-94ce-4795-93fd-e4e5ce333eaf",
   "metadata": {},
   "outputs": [],
   "source": [
    "lista = [\"hay\", \"junk\", \"hay\", \"hay\", \"moreJunk\", \"needle\", \"randomJunk\"]"
   ]
  },
  {
   "cell_type": "code",
   "execution_count": 28,
   "id": "12a3b87c-5b9c-481c-a2ca-bd06d83caf8e",
   "metadata": {},
   "outputs": [
    {
     "data": {
      "text/plain": [
       "'found the needle at position 5'"
      ]
     },
     "execution_count": 28,
     "metadata": {},
     "output_type": "execute_result"
    }
   ],
   "source": [
    "find_needle(lista)"
   ]
  },
  {
   "cell_type": "markdown",
   "id": "44128483-9798-47b8-924a-8aea9a529139",
   "metadata": {
    "tags": []
   },
   "source": [
    "## Description\n",
    "\n",
    "Nathan loves cycling.\n",
    "\n",
    "Because Nathan knows it is important to stay hydrated, he drinks 0.5 litres of water per hour of cycling.\n",
    "\n",
    "You get given the time in hours and you need to return the number of litres Nathan will drink, rounded to the smallest value."
   ]
  },
  {
   "cell_type": "code",
   "execution_count": 33,
   "id": "e30c4618-45ea-4478-915f-3b12c41235e7",
   "metadata": {},
   "outputs": [],
   "source": [
    "import math\n",
    "def litres(time):\n",
    "    liters = math.floor(time * 0.5)\n",
    "    return liters"
   ]
  },
  {
   "cell_type": "code",
   "execution_count": 34,
   "id": "f330fc9e-2cca-4512-b60b-8ac83699bb3c",
   "metadata": {},
   "outputs": [
    {
     "data": {
      "text/plain": [
       "4"
      ]
     },
     "execution_count": 34,
     "metadata": {},
     "output_type": "execute_result"
    }
   ],
   "source": [
    "litres(8)"
   ]
  },
  {
   "cell_type": "code",
   "execution_count": null,
   "id": "84a82ba8-ae96-4c56-86e2-425a9d083617",
   "metadata": {},
   "outputs": [],
   "source": []
  },
  {
   "cell_type": "code",
   "execution_count": null,
   "id": "1abdef83-0a3e-4332-bb89-14959fbc3609",
   "metadata": {},
   "outputs": [],
   "source": []
  }
 ],
 "metadata": {
  "kernelspec": {
   "display_name": "Python 3 (ipykernel)",
   "language": "python",
   "name": "python3"
  },
  "language_info": {
   "codemirror_mode": {
    "name": "ipython",
    "version": 3
   },
   "file_extension": ".py",
   "mimetype": "text/x-python",
   "name": "python",
   "nbconvert_exporter": "python",
   "pygments_lexer": "ipython3",
   "version": "3.9.12"
  }
 },
 "nbformat": 4,
 "nbformat_minor": 5
}
