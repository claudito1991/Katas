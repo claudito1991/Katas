{
 "cells": [
  {
   "cell_type": "markdown",
   "id": "fe9f46af-4665-44b9-9679-c79540e46364",
   "metadata": {},
   "source": [
    "## Description\n",
    "\n",
    "The Western Suburbs Croquet Club has two categories of membership, Senior and Open. They would like your help with an application form that will tell prospective members which category they will be placed.\n",
    "\n",
    "To be a senior, a member must be at least 55 years old and have a handicap greater than 7. In this croquet club, handicaps range from -2 to +26; the better the player the lower the handicap.\n",
    "\n",
    "Input\n",
    "Input will consist of a list of pairs. Each pair contains information for a single potential member. Information consists of an integer for the person's age and an integer for the person's handicap.\n",
    "\n",
    "Output\n",
    "Output will consist of a list of string values (in Haskell and C: Open or Senior) stating whether the respective member is to be placed in the senior or open category."
   ]
  },
  {
   "cell_type": "code",
   "execution_count": 2,
   "id": "e8afe5a3-689b-4e93-9ca0-33fd62aa8938",
   "metadata": {},
   "outputs": [],
   "source": [
    "def open_or_senior(data):\n",
    "    aux_list=[]\n",
    "    \n",
    "    for i in data:\n",
    "        if(i[0]>=55 and i[1]>7):\n",
    "            aux_list.append(\"Senior\")\n",
    "        else:\n",
    "            aux_list.append(\"Open\")\n",
    "    return aux_list"
   ]
  },
  {
   "cell_type": "code",
   "execution_count": 4,
   "id": "b82c5ae9-d50b-4f2e-91ab-345dfc7850ee",
   "metadata": {},
   "outputs": [
    {
     "data": {
      "text/plain": [
       "['Senior', 'Open', 'Open']"
      ]
     },
     "execution_count": 4,
     "metadata": {},
     "output_type": "execute_result"
    }
   ],
   "source": [
    "open_or_senior([[55,12], [60,7],[20,-2]])"
   ]
  },
  {
   "cell_type": "markdown",
   "id": "a5a6d0ea-93f6-4c34-8944-008ca6338630",
   "metadata": {},
   "source": [
    "## Description\n",
    "Complete the solution so that it returns true if the first argument(string) passed in ends with the 2nd argument (also a string)."
   ]
  },
  {
   "cell_type": "code",
   "execution_count": 1,
   "id": "5daf5222-87fa-42bc-bab1-fb7237161c26",
   "metadata": {},
   "outputs": [],
   "source": [
    "def solution(text, ending):\n",
    "    if(ending in text):\n",
    "        if(ending[-1] == text[-1]):\n",
    "            for i in text:\n",
    "                for j in ending:\n",
    "                    if(i==j):\n",
    "                        return True\n",
    "        else:\n",
    "            return False\n",
    "    else:\n",
    "        return False"
   ]
  },
  {
   "cell_type": "code",
   "execution_count": 2,
   "id": "fd133e4f-5cd4-46a6-a85c-b21cebb541b4",
   "metadata": {},
   "outputs": [
    {
     "data": {
      "text/plain": [
       "False"
      ]
     },
     "execution_count": 2,
     "metadata": {},
     "output_type": "execute_result"
    }
   ],
   "source": [
    "solution(\"samurai\",\"ra\")"
   ]
  },
  {
   "cell_type": "code",
   "execution_count": 3,
   "id": "93705dee-7fce-436e-af54-2688513cf021",
   "metadata": {},
   "outputs": [
    {
     "data": {
      "text/plain": [
       "True"
      ]
     },
     "execution_count": 3,
     "metadata": {},
     "output_type": "execute_result"
    }
   ],
   "source": [
    "solution(\"katas\",\"as\")"
   ]
  },
  {
   "cell_type": "code",
   "execution_count": null,
   "id": "3f78ecca-bc4d-43dd-8797-d06bfcc27591",
   "metadata": {},
   "outputs": [],
   "source": []
  }
 ],
 "metadata": {
  "kernelspec": {
   "display_name": "Python 3 (ipykernel)",
   "language": "python",
   "name": "python3"
  },
  "language_info": {
   "codemirror_mode": {
    "name": "ipython",
    "version": 3
   },
   "file_extension": ".py",
   "mimetype": "text/x-python",
   "name": "python",
   "nbconvert_exporter": "python",
   "pygments_lexer": "ipython3",
   "version": "3.9.12"
  }
 },
 "nbformat": 4,
 "nbformat_minor": 5
}
