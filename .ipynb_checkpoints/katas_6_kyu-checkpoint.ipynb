{
 "cells": [
  {
   "cell_type": "code",
   "execution_count": 3,
   "id": "d155ccdd-066c-43fc-b5f2-31053237794c",
   "metadata": {},
   "outputs": [],
   "source": [
    "string_runners = \"01|15|59, 1|47|6, 01|17|20, 1|32|34, 2|3|17\""
   ]
  },
  {
   "cell_type": "code",
   "execution_count": 4,
   "id": "5489133c-eb70-48a9-87dd-f202538bd41d",
   "metadata": {},
   "outputs": [],
   "source": [
    "string_test=\"01:15:59\"\n",
    "string_2 = \"1:47:6\""
   ]
  },
  {
   "cell_type": "code",
   "execution_count": 97,
   "id": "a89e4fff-65c3-433c-ba2d-7dd646bf12a1",
   "metadata": {},
   "outputs": [],
   "source": [
    "\n",
    "#from datetime import datetime\n",
    "import math\n",
    "import datetime\n",
    "from statistics import mean "
   ]
  },
  {
   "cell_type": "code",
   "execution_count": 26,
   "id": "8371eebf-7a49-489e-86a8-d5500cf02809",
   "metadata": {},
   "outputs": [],
   "source": [
    "# This function converts string to time and calculates it's 'distance' from 00:00:00\n",
    "def string_to_time(strg):\n",
    "    zero_time = \"00:00:00\"\n",
    "    zero_time_obj = datetime.datetime.strptime(zero_time, \"%H:%M:%S\")\n",
    "    time_is = datetime.datetime.strptime(strg, \"%H:%M:%S\")\n",
    "    resultado = (time_is-zero_time_obj).total_seconds()/60\n",
    "    return resultado"
   ]
  },
  {
   "cell_type": "code",
   "execution_count": 27,
   "id": "cd286681-00fc-4d4b-8a95-d6a9a594e3ae",
   "metadata": {},
   "outputs": [],
   "source": [
    "# this function separates original string into a list and replace chars.\n",
    "def convert_str_to_list_of_runners(complete_string):\n",
    "    list_aux = complete_string.split(\",\")\n",
    "    list_aux_1 = [x.replace(\"|\",\":\") for x in list_aux]\n",
    "    list_aux_2 = [x.replace(\" \",\"\") for x in list_aux_1]\n",
    "    return list_aux_2"
   ]
  },
  {
   "cell_type": "code",
   "execution_count": 28,
   "id": "8b95c50e-1e94-4eb4-8dee-14ddc6c4dac5",
   "metadata": {},
   "outputs": [],
   "source": [
    "#this function gets all the distance and calculates range\n",
    "def get_range(list_converted):\n",
    "    list_aux = []\n",
    "    for i in list_converted:\n",
    "        list_aux.append(string_to_time(i))\n",
    "    max_val = max(list_aux)\n",
    "    min_val = min(list_aux)\n",
    "    return max_val - min_val"
   ]
  },
  {
   "cell_type": "code",
   "execution_count": 98,
   "id": "42b9bc2f-2f32-4410-bc5e-ae46e7a3538e",
   "metadata": {},
   "outputs": [],
   "source": [
    "#this function gets all the distance and calculates range\n",
    "def get_mean(list_converted):\n",
    "    list_aux = []\n",
    "    for i in list_converted:\n",
    "        list_aux.append(string_to_time(i))\n",
    "    return mean(list_aux)"
   ]
  },
  {
   "cell_type": "code",
   "execution_count": 116,
   "id": "fd16eec3-5f37-4ac8-b50d-f85a8dee1224",
   "metadata": {},
   "outputs": [],
   "source": [
    "#this function gets all the distance and calculates range\n",
    "def get_median(list_converted):\n",
    "    list_aux = []\n",
    "    count=0\n",
    "    for i in list_converted:\n",
    "        list_aux.append([string_to_time(i), count])\n",
    "        count+=1\n",
    "    ordered_list = []\n",
    "    for i in list_aux:\n",
    "        prev_val = 0\n",
    "        if i[0]>prev_val:\n",
    "            ordered_list.append(list_aux[i[1]])\n",
    "            prev_val = i[0]\n",
    "            \n",
    "            \n",
    "    return ordered_list"
   ]
  },
  {
   "cell_type": "code",
   "execution_count": 117,
   "id": "a58a3f3b-9208-4fd1-97ad-3fb2b82210cb",
   "metadata": {},
   "outputs": [],
   "source": [
    "list_converted_times = convert_str_to_list_of_runners(string_runners)"
   ]
  },
  {
   "cell_type": "code",
   "execution_count": 118,
   "id": "fb011cda-46b9-44db-8d41-0eb43bec57da",
   "metadata": {},
   "outputs": [],
   "source": [
    "median = get_median(list_converted_times)"
   ]
  },
  {
   "cell_type": "code",
   "execution_count": 115,
   "id": "9aff4c3a-9904-415a-bfb6-3c255cca81a2",
   "metadata": {},
   "outputs": [
    {
     "data": {
      "text/plain": [
       "[[75.98333333333333, 0],\n",
       " [107.1, 1],\n",
       " [77.33333333333333, 2],\n",
       " [92.56666666666666, 3],\n",
       " [123.28333333333333, 4]]"
      ]
     },
     "execution_count": 115,
     "metadata": {},
     "output_type": "execute_result"
    }
   ],
   "source": [
    "median"
   ]
  },
  {
   "cell_type": "code",
   "execution_count": 30,
   "id": "6d3f3e9f-53fb-4659-a7f2-c9fcba32c0d3",
   "metadata": {},
   "outputs": [],
   "source": [
    "ranges = get_range(list_converted_times)"
   ]
  },
  {
   "cell_type": "code",
   "execution_count": 99,
   "id": "eb5f7997-ce4b-4fbb-8440-0c09d1570d48",
   "metadata": {},
   "outputs": [],
   "source": [
    "mean_runner = get_mean(list_converted_times)"
   ]
  },
  {
   "cell_type": "code",
   "execution_count": 100,
   "id": "b3f057ce-a827-4400-a4c9-fabf2780caa1",
   "metadata": {},
   "outputs": [
    {
     "data": {
      "text/plain": [
       "47.3"
      ]
     },
     "execution_count": 100,
     "metadata": {},
     "output_type": "execute_result"
    }
   ],
   "source": [
    "ranges"
   ]
  },
  {
   "cell_type": "code",
   "execution_count": 101,
   "id": "f022925f-5e9b-46f1-b0ac-90be4ca93d67",
   "metadata": {},
   "outputs": [
    {
     "data": {
      "text/plain": [
       "95.25333333333333"
      ]
     },
     "execution_count": 101,
     "metadata": {},
     "output_type": "execute_result"
    }
   ],
   "source": [
    "mean_runner"
   ]
  },
  {
   "cell_type": "code",
   "execution_count": 104,
   "id": "a34c2dad-0847-4baa-840f-5cdc1ef43270",
   "metadata": {},
   "outputs": [],
   "source": [
    "def convert_back_to_time(time_val):\n",
    "    number_in_front = math.trunc(time_val//60)\n",
    "    hours = str(number_in_front).rjust(2, '0')\n",
    "    minutes = str(math.trunc(time_val%60))\n",
    "    seconds = str(round(time_val%1*60))\n",
    "    return f\"{hours}|{minutes}|{seconds}\""
   ]
  },
  {
   "cell_type": "code",
   "execution_count": 107,
   "id": "1c0916e2-907d-42a6-926a-496a660cc5e7",
   "metadata": {},
   "outputs": [
    {
     "data": {
      "text/plain": [
       "'00|47|18'"
      ]
     },
     "execution_count": 107,
     "metadata": {},
     "output_type": "execute_result"
    }
   ],
   "source": [
    "range_runner = convert_back_to_time(ranges)\n",
    "range_runner"
   ]
  },
  {
   "cell_type": "code",
   "execution_count": 108,
   "id": "3ff0d7dc-4d02-4cd5-a994-979c9d7c4bbf",
   "metadata": {},
   "outputs": [
    {
     "data": {
      "text/plain": [
       "'01|35|15'"
      ]
     },
     "execution_count": 108,
     "metadata": {},
     "output_type": "execute_result"
    }
   ],
   "source": [
    "mean_run = convert_back_to_time(mean_runner)\n",
    "mean_run"
   ]
  }
 ],
 "metadata": {
  "kernelspec": {
   "display_name": "Python 3 (ipykernel)",
   "language": "python",
   "name": "python3"
  },
  "language_info": {
   "codemirror_mode": {
    "name": "ipython",
    "version": 3
   },
   "file_extension": ".py",
   "mimetype": "text/x-python",
   "name": "python",
   "nbconvert_exporter": "python",
   "pygments_lexer": "ipython3",
   "version": "3.9.12"
  }
 },
 "nbformat": 4,
 "nbformat_minor": 5
}
